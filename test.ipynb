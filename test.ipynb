{
 "cells": [
  {
   "cell_type": "code",
   "execution_count": 20,
   "metadata": {},
   "outputs": [
    {
     "data": {
      "text/plain": [
       "42"
      ]
     },
     "execution_count": 20,
     "metadata": {},
     "output_type": "execute_result"
    }
   ],
   "source": [
    "from random import uniform\n",
    "int(uniform(0, 100))"
   ]
  },
  {
   "cell_type": "code",
   "execution_count": null,
   "metadata": {},
   "outputs": [
    {
     "ename": "",
     "evalue": "",
     "output_type": "error",
     "traceback": [
      "\u001b[1;31mRunning cells with 'Python 2.7.2 32-bit' requires ipykernel package.\n",
      "Run the following command to install 'ipykernel' into the Python environment. \n",
      "Command: 'c:/Python27/python2.exe -m pip install ipykernel -U --user --force-reinstall'"
     ]
    }
   ],
   "source": [
    "# create server\n",
    "\n",
    "from audioop import add\n",
    "from pyModbusTCP.server import ModbusServer, DataBank\n",
    "from time import sleep\n",
    "from random import uniform\n",
    "\n",
    "# Create an instance of ModbusServer\n",
    "server = ModbusServer(\"127.0.0.1\", 12345, no_block=True)\n",
    "try:\n",
    "    print(\"Start server...\")\n",
    "    server.start()\n",
    "    print(\"Server is online\")\n",
    "    state = [0]\n",
    "    db=DataBank()\n",
    "    db.set_holding_registers(address=0,word_list=[2])\n",
    "    while True:\n",
    "        \n",
    "        if state != db.get_holding_registers(address=0):\n",
    "            state = db.get_holding_registers(address=0)\n",
    "            print(\"Value of Register 1 has changed to \" +str(state))\n",
    "        sleep(0.5)\n",
    "\n",
    "except:\n",
    "    print(\"Shutdown server ...\")\n",
    "    server.stop()\n",
    "    print(\"Server is offline\")"
   ]
  },
  {
   "cell_type": "code",
   "execution_count": null,
   "metadata": {},
   "outputs": [
    {
     "ename": "",
     "evalue": "",
     "output_type": "error",
     "traceback": [
      "\u001b[1;31mRunning cells with 'Python 2.7.2 32-bit' requires ipykernel package.\n",
      "Run the following command to install 'ipykernel' into the Python environment. \n",
      "Command: 'c:/Python27/python2.exe -m pip install ipykernel -U --user --force-reinstall'"
     ]
    }
   ],
   "source": [
    "from pyModbusTCP.client import ModbusClient\n",
    "client = ModbusClient(host = '127.0.0.1',port = 501)\n",
    "client.open() \n",
    "\n",
    "# client.read_holding_registers(0)\n",
    "client.read_holding_registers(0)\n",
    "\n"
   ]
  }
 ],
 "metadata": {
  "kernelspec": {
   "display_name": "Python 2.7.2 32-bit",
   "language": "python",
   "name": "python3"
  },
  "language_info": {
   "codemirror_mode": {
    "name": "ipython",
    "version": 3
   },
   "file_extension": ".py",
   "mimetype": "text/x-python",
   "name": "python",
   "nbconvert_exporter": "python",
   "pygments_lexer": "ipython3",
   "version": "2.7.2"
  },
  "orig_nbformat": 4,
  "vscode": {
   "interpreter": {
    "hash": "45dec14d0c9490b052a062babba8df263dd52a6bead7b36d0b109a8db1b9b57b"
   }
  }
 },
 "nbformat": 4,
 "nbformat_minor": 2
}
