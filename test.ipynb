{
 "cells": [
  {
   "cell_type": "code",
   "execution_count": 48,
   "metadata": {},
   "outputs": [
    {
     "data": {
      "text/plain": [
       "85"
      ]
     },
     "execution_count": 48,
     "metadata": {},
     "output_type": "execute_result"
    }
   ],
   "source": [
    "from random import uniform\n",
    "int(uniform(0, 100))"
   ]
  },
  {
   "cell_type": "code",
   "execution_count": 1,
   "metadata": {},
   "outputs": [
    {
     "name": "stdout",
     "output_type": "stream",
     "text": [
      "Start server...\n",
      "Server is online\n",
      "Value of Register 1 has changed to [46]\n",
      "Shutdown server ...\n",
      "Server is offline\n"
     ]
    }
   ],
   "source": [
    "# create server\n",
    "\n",
    "from audioop import add\n",
    "from urllib.request import DataHandler\n",
    "from pyModbusTCP.server import ModbusServer, DataBank\n",
    "from time import sleep\n",
    "from random import uniform\n",
    "\n",
    "# Create an instance of ModbusServer\n",
    "server = ModbusServer(\"127.0.0.1\", 12345, no_block=True)\n",
    "try:\n",
    "    print(\"Start server...\")\n",
    "    server.start()\n",
    "    print(\"Server is online\")\n",
    "    state = [0]\n",
    "    db=DataBank()\n",
    "    dh = DataHandler()\n",
    "    db.set_holding_registers(address=1,word_list=[int(uniform(0, 100))])\n",
    "    while True:\n",
    "        \n",
    "        if state != db.get_holding_registers(address=1):\n",
    "            state = db.get_holding_registers(address=1)\n",
    "            print(\"Value of Register 1 has changed to \" +str(state))\n",
    "        sleep(0.5)\n",
    "\n",
    "except:\n",
    "    print(\"Shutdown server ...\")\n",
    "    server.stop()\n",
    "    print(\"Server is offline\")"
   ]
  },
  {
   "cell_type": "code",
   "execution_count": 57,
   "metadata": {},
   "outputs": [
    {
     "data": {
      "text/plain": [
       "True"
      ]
     },
     "execution_count": 57,
     "metadata": {},
     "output_type": "execute_result"
    }
   ],
   "source": [
    "from pyModbusTCP.client import ModbusClient\n",
    "client = ModbusClient(host = '127.0.0.1',port = 12345)\n",
    "client.open() \n",
    "client.write_single_register(0,69)\n",
    "\n",
    "# client.read_holding_registers(0)\n",
    "# client.read_holding_registers(1)\n"
   ]
  }
 ],
 "metadata": {
  "kernelspec": {
   "display_name": "Python 3.10.0 64-bit",
   "language": "python",
   "name": "python3"
  },
  "language_info": {
   "codemirror_mode": {
    "name": "ipython",
    "version": 3
   },
   "file_extension": ".py",
   "mimetype": "text/x-python",
   "name": "python",
   "nbconvert_exporter": "python",
   "pygments_lexer": "ipython3",
   "version": "3.10.0"
  },
  "orig_nbformat": 4,
  "vscode": {
   "interpreter": {
    "hash": "e911bb79b95f2b40b7952d718cdc0528e6543e46ce2458b7a9454f8f1b299696"
   }
  }
 },
 "nbformat": 4,
 "nbformat_minor": 2
}
